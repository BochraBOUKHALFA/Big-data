{
 "cells": [
  {
   "cell_type": "code",
   "execution_count": 1,
   "id": "dfc30aa0-3f38-4797-b8b0-573d044187de",
   "metadata": {},
   "outputs": [],
   "source": [
    "from pyspark import SparkContext                                   \n",
    "from pyspark.sql import SparkSession, Window, Row                 \n",
    "from pyspark.sql import functions as F                             \n",
    "from pyspark.sql.functions import col, isnan, when, count           \n",
    "from pyspark.sql.functions import *                                \n",
    "from pyspark.sql.types import *                                  \n",
    "\n",
    "from pyspark.ml.feature import VectorAssembler                      \n",
    "from pyspark.ml.regression import LinearRegression   "
   ]
  },
  {
   "cell_type": "markdown",
   "id": "a3947e93-0299-4307-ba5f-d4ce0f8d9e5b",
   "metadata": {
    "tags": []
   },
   "source": [
    "## **Initializing a SparkSession**"
   ]
  },
  {
   "cell_type": "code",
   "execution_count": 2,
   "id": "d1b1b759-bba0-4853-b68c-2775148a5337",
   "metadata": {},
   "outputs": [],
   "source": [
    "# Create a Spark session\n",
    "spark = SparkSession.builder \\\n",
    "    .appName(\"DataPreparation\") \\\n",
    "    .config(\"spark.hadoop.fs.s3a.endpoint\", \"http://minio:9000\") \\\n",
    "    .config(\"spark.hadoop.fs.s3a.access.key\", \"minio\") \\\n",
    "    .config(\"spark.hadoop.fs.s3a.secret.key\", \"minio123\") \\\n",
    "    .getOrCreate()\n",
    "\n",
    "# Read data from MinIO\n",
    "parsed_df = spark.read.format(\"csv\") \\\n",
    "    .option(\"header\", \"true\") \\\n",
    "    .load(\"s3a://compteurbucket/compteurs.csv\")\n"
   ]
  },
  {
   "cell_type": "code",
   "execution_count": 3,
   "id": "375ac7b3-3217-496b-9e9b-6a9acff5222c",
   "metadata": {},
   "outputs": [
    {
     "name": "stdout",
     "output_type": "stream",
     "text": [
      "+--------------------+-------+-----------+-------+------------+--------------+------+----------+-----------+----------+-----------+\n",
      "|           Timestamp|voltage|compteur_id|current|power_factor|consumption_KW| price|id_Machine|id_consumer|Nbr_Person|Nbr_machine|\n",
      "+--------------------+-------+-----------+-------+------------+--------------+------+----------+-----------+----------+-----------+\n",
      "|2023-05-24 12:58:...| 225.72|        996|     -6|        0.95|        794.15|959.02|       746|        698|       545|        218|\n",
      "|2023-05-24 12:58:...| 220.14|        576|     -4|        0.99|        231.47|337.32|       440|        420|       189|        108|\n",
      "|2023-05-24 12:58:...| 228.65|        955|      3|        0.83|        271.62| 202.1|       758|        142|       558|        388|\n",
      "|2023-05-24 12:58:...| 226.94|        267|      1|        0.87|        218.09|593.35|       625|        670|       753|        453|\n",
      "|2023-05-24 12:58:...| 232.79|        597|     -2|        0.85|        149.93|697.82|       792|        249|       722|        241|\n",
      "|2023-05-24 12:58:...| 225.99|         26|   null|        null|         269.2|316.38|        83|        511|       968|        284|\n",
      "|2023-05-24 12:58:...| 238.48|        358|      1|         0.9|        796.25|291.41|       799|         36|       470|        316|\n",
      "|2023-05-24 12:58:...| 231.22|        521|     -5|        0.92|        621.05|134.95|       676|        266|        72|        470|\n",
      "|2023-05-24 12:58:...| 224.04|        556|     -3|        0.85|        930.95|617.27|       247|        450|       735|        154|\n",
      "|2023-05-24 12:58:...| 223.46|        309|      1|        0.92|        360.87| 515.0|       488|        865|       491|        267|\n",
      "|2023-05-24 12:58:...| 237.67|        963|      1|        0.97|        327.44|720.55|        78|         89|       116|        350|\n",
      "|2023-05-24 12:58:...| 239.44|        640|      1|        0.98|        842.15|193.87|       659|        748|       155|        470|\n",
      "|2023-05-24 12:58:...| 221.69|        471|     -5|         0.8|        623.95|909.93|       150|        675|       220|        166|\n",
      "|2023-05-24 12:58:...| 234.62|        922|   null|        null|        263.53|372.77|       479|        270|       190|        412|\n",
      "|2023-05-24 12:58:...| 234.37|        241|      8|        0.98|        527.93|847.73|       486|         43|       245|          9|\n",
      "|2023-05-24 12:58:...| 239.47|        975|   null|        null|         691.8| 591.9|       505|        772|       616|        212|\n",
      "|2023-05-24 12:58:...| 229.95|        760|     -7|        0.85|        251.97|175.25|       647|        785|       509|        364|\n",
      "|2023-05-24 12:58:...|  232.8|        165|   null|        null|        697.94|686.71|       723|        950|       830|        323|\n",
      "|2023-05-24 12:58:...| 236.63|        770|     10|        0.98|        667.08|129.58|       691|        332|       485|        135|\n",
      "|2023-05-24 12:58:...| 228.96|        252|     -6|        0.86|        115.34|335.66|       482|        345|       616|         42|\n",
      "+--------------------+-------+-----------+-------+------------+--------------+------+----------+-----------+----------+-----------+\n",
      "only showing top 20 rows\n",
      "\n"
     ]
    }
   ],
   "source": [
    "#printing the dataframe\n",
    "parsed_df.show()"
   ]
  },
  {
   "cell_type": "markdown",
   "id": "3b66fa0e-3e24-4230-b840-d016d146dc58",
   "metadata": {},
   "source": [
    "## **Data Pre-processing**"
   ]
  },
  {
   "cell_type": "code",
   "execution_count": 4,
   "id": "30aceca7-bb49-44c1-813c-09ca3f90bea9",
   "metadata": {},
   "outputs": [
    {
     "name": "stdout",
     "output_type": "stream",
     "text": [
      "+---------+-------+-----------+-------+------------+--------------+-----+----------+-----------+----------+-----------+\n",
      "|Timestamp|voltage|compteur_id|current|power_factor|consumption_KW|price|id_Machine|id_consumer|Nbr_Person|Nbr_machine|\n",
      "+---------+-------+-----------+-------+------------+--------------+-----+----------+-----------+----------+-----------+\n",
      "|        0|      0|          0|    194|         194|             0|    0|         0|          0|         0|          0|\n",
      "+---------+-------+-----------+-------+------------+--------------+-----+----------+-----------+----------+-----------+\n",
      "\n"
     ]
    }
   ],
   "source": [
    "# Creating a dataframe to check null value counts\n",
    "null_df = parsed_df.select([count(when(col(c).contains('None') | \\\n",
    "                            col(c).contains('NULL') | \\\n",
    "                            (col(c) == '') | \\\n",
    "                            col(c).isNull() | \\\n",
    "                            isnan(c), c \n",
    "                           )).alias(c)\n",
    "                    for c in parsed_df.columns])\n",
    "\n",
    "# Displaying the null value counts dataframe\n",
    "null_df.show()"
   ]
  },
  {
   "cell_type": "code",
   "execution_count": 5,
   "id": "aa64b37e-a2d4-490b-8e7d-06767dad7a66",
   "metadata": {},
   "outputs": [
    {
     "name": "stdout",
     "output_type": "stream",
     "text": [
      "+---------+-------+-----------+-------+------------+--------------+-----+----------+-----------+----------+-----------+\n",
      "|Timestamp|voltage|compteur_id|current|power_factor|consumption_KW|price|id_Machine|id_consumer|Nbr_Person|Nbr_machine|\n",
      "+---------+-------+-----------+-------+------------+--------------+-----+----------+-----------+----------+-----------+\n",
      "|        0|      0|          0|    567|         194|             0|    0|         0|          0|         0|          0|\n",
      "+---------+-------+-----------+-------+------------+--------------+-----+----------+-----------+----------+-----------+\n",
      "\n"
     ]
    }
   ],
   "source": [
    "# Creating a dataframe to check negative value counts\n",
    "null_df = parsed_df.select([count(when((col(c) == 'None') | \\\n",
    "                                      (col(c) == 'NULL') | \\\n",
    "                                      (col(c) == '') | \\\n",
    "                                      (col(c).isNull()) | \\\n",
    "                                      (isnan(col(c))) | \\\n",
    "                                      (col(c) < 0), c)).alias(c)\n",
    "                           for c in parsed_df.columns])\n",
    "\n",
    "# Displaying the negative value counts dataframe\n",
    "null_df.show()"
   ]
  },
  {
   "cell_type": "code",
   "execution_count": 6,
   "id": "4fe3511c-8b8c-4f35-a261-dd36d024a1b2",
   "metadata": {},
   "outputs": [],
   "source": [
    "\n",
    "preprocessed_df =parsed_df.withColumn('power_factor', when(parsed_df['power_factor'] >= 0, parsed_df['power_factor']).otherwise(0)) \\\n",
    "    .withColumn('compteur_id', when(parsed_df['compteur_id'].isNull(), 0).otherwise(parsed_df['compteur_id'])) \\\n",
    "    .withColumn('voltage', when(parsed_df['voltage'].isNull(), 0).otherwise(parsed_df['voltage'])) \\\n",
    "    .withColumn('current', when(parsed_df['current'] >= 0, parsed_df['current']).otherwise(0)) \\\n",
    "    .withColumn('consumption_KW', when(parsed_df['consumption_KW'].isNull(), 0).otherwise(parsed_df['consumption_KW'])) \\\n",
    "    .withColumn('price', when(parsed_df['price'].isNull(), 0).otherwise(parsed_df['price'])) \\\n",
    "    .withColumn('id_Machine', when(parsed_df['id_Machine'].isNull(), 0).otherwise(parsed_df['id_Machine'])) \\\n",
    "    .withColumn('id_consumer', when(parsed_df['id_consumer'].isNull(), 0).otherwise(parsed_df['id_consumer'])) \\\n",
    "    .withColumn('Nbr_Person', when(parsed_df['Nbr_Person'].isNull(), 0).otherwise(parsed_df['Nbr_Person'])) \\\n",
    "    .withColumn('Nbr_machine', when(parsed_df['Nbr_machine'].isNull(), 0).otherwise(parsed_df['Nbr_machine']))\n",
    "# Write data to MinIO"
   ]
  },
  {
   "cell_type": "code",
   "execution_count": 7,
   "id": "6b30edd9-6069-435a-8346-926ce014479a",
   "metadata": {},
   "outputs": [
    {
     "name": "stdout",
     "output_type": "stream",
     "text": [
      "+--------------------+-------+-----------+-------+------------+--------------+------+----------+-----------+----------+-----------+\n",
      "|           Timestamp|voltage|compteur_id|current|power_factor|consumption_KW| price|id_Machine|id_consumer|Nbr_Person|Nbr_machine|\n",
      "+--------------------+-------+-----------+-------+------------+--------------+------+----------+-----------+----------+-----------+\n",
      "|2023-05-24 12:58:...| 225.72|        996|      0|        0.95|        794.15|959.02|       746|        698|       545|        218|\n",
      "|2023-05-24 12:58:...| 220.14|        576|      0|        0.99|        231.47|337.32|       440|        420|       189|        108|\n",
      "|2023-05-24 12:58:...| 228.65|        955|      3|        0.83|        271.62| 202.1|       758|        142|       558|        388|\n",
      "|2023-05-24 12:58:...| 226.94|        267|      1|        0.87|        218.09|593.35|       625|        670|       753|        453|\n",
      "|2023-05-24 12:58:...| 232.79|        597|      0|        0.85|        149.93|697.82|       792|        249|       722|        241|\n",
      "|2023-05-24 12:58:...| 225.99|         26|      0|           0|         269.2|316.38|        83|        511|       968|        284|\n",
      "|2023-05-24 12:58:...| 238.48|        358|      1|         0.9|        796.25|291.41|       799|         36|       470|        316|\n",
      "|2023-05-24 12:58:...| 231.22|        521|      0|        0.92|        621.05|134.95|       676|        266|        72|        470|\n",
      "|2023-05-24 12:58:...| 224.04|        556|      0|        0.85|        930.95|617.27|       247|        450|       735|        154|\n",
      "|2023-05-24 12:58:...| 223.46|        309|      1|        0.92|        360.87| 515.0|       488|        865|       491|        267|\n",
      "|2023-05-24 12:58:...| 237.67|        963|      1|        0.97|        327.44|720.55|        78|         89|       116|        350|\n",
      "|2023-05-24 12:58:...| 239.44|        640|      1|        0.98|        842.15|193.87|       659|        748|       155|        470|\n",
      "|2023-05-24 12:58:...| 221.69|        471|      0|         0.8|        623.95|909.93|       150|        675|       220|        166|\n",
      "|2023-05-24 12:58:...| 234.62|        922|      0|           0|        263.53|372.77|       479|        270|       190|        412|\n",
      "|2023-05-24 12:58:...| 234.37|        241|      8|        0.98|        527.93|847.73|       486|         43|       245|          9|\n",
      "|2023-05-24 12:58:...| 239.47|        975|      0|           0|         691.8| 591.9|       505|        772|       616|        212|\n",
      "|2023-05-24 12:58:...| 229.95|        760|      0|        0.85|        251.97|175.25|       647|        785|       509|        364|\n",
      "|2023-05-24 12:58:...|  232.8|        165|      0|           0|        697.94|686.71|       723|        950|       830|        323|\n",
      "|2023-05-24 12:58:...| 236.63|        770|     10|        0.98|        667.08|129.58|       691|        332|       485|        135|\n",
      "|2023-05-24 12:58:...| 228.96|        252|      0|        0.86|        115.34|335.66|       482|        345|       616|         42|\n",
      "+--------------------+-------+-----------+-------+------------+--------------+------+----------+-----------+----------+-----------+\n",
      "only showing top 20 rows\n",
      "\n"
     ]
    }
   ],
   "source": [
    "#printing the dataframe\n",
    "preprocessed_df.show()"
   ]
  },
  {
   "cell_type": "markdown",
   "id": "a11b2851-0783-4762-b7c7-590d3017d0e4",
   "metadata": {},
   "source": [
    "\n",
    "# **Data Post-Processing**\n",
    "\n",
    "\n",
    "- We wll use a **VectorAssembler**.\n",
    "\n",
    "- VectorAssember from **Spark ML library** is a module that allows to convert **numerical features into a single vector** that is used by the machine learning models.\n",
    "\n",
    "- It takes a **list of columns** (features) and **combines it** into a single **vector column** (feature vector).\n",
    "\n",
    "- It is then used as an **input** into the **machine learning models** in Spark ML."
   ]
  },
  {
   "cell_type": "code",
   "execution_count": 8,
   "id": "2cac5e4b-c1fa-46e1-b482-c809b1368fb7",
   "metadata": {},
   "outputs": [],
   "source": [
    "#This performs additional data type conversions on the DataFrame parsed_df\n",
    "parsed_df = parsed_df.withColumn('consumption_KW', round(col('consumption_KW'), 2).cast(DoubleType()))\n",
    "parsed_df = parsed_df.withColumn('price', round(col('price'), 2).cast(DoubleType()))\n",
    "parsed_df = parsed_df.withColumn('Nbr_Person', col('Nbr_Person').cast(IntegerType()))\n",
    "parsed_df = parsed_df.withColumn('Nbr_machine', col('Nbr_machine').cast(IntegerType()))\n",
    "\n",
    "# Define the VectorAssembler\n",
    "assembler = VectorAssembler(inputCols=['consumption_KW', 'price', 'Nbr_Person', 'Nbr_machine'],\n",
    "                            outputCol='Independent')"
   ]
  },
  {
   "cell_type": "markdown",
   "id": "d2d0cd01-8548-451f-a8fd-e30f23bf8e30",
   "metadata": {},
   "source": [
    "- Using this assembler, we can transform the original dataset and take a look at the result:"
   ]
  },
  {
   "cell_type": "code",
   "execution_count": 9,
   "id": "d2da3e81-4829-48fd-b16b-2543366ba504",
   "metadata": {},
   "outputs": [
    {
     "name": "stdout",
     "output_type": "stream",
     "text": [
      "+--------------------+-------+-----------+-------+------------+--------------+------+----------+-----------+----------+-----------+--------------------+\n",
      "|           Timestamp|voltage|compteur_id|current|power_factor|consumption_KW| price|id_Machine|id_consumer|Nbr_Person|Nbr_machine|         Independent|\n",
      "+--------------------+-------+-----------+-------+------------+--------------+------+----------+-----------+----------+-----------+--------------------+\n",
      "|2023-05-24 12:58:...| 225.72|        996|     -6|        0.95|        794.15|959.02|       746|        698|       545|        218|[794.15,959.02,54...|\n",
      "|2023-05-24 12:58:...| 220.14|        576|     -4|        0.99|        231.47|337.32|       440|        420|       189|        108|[231.47,337.32,18...|\n",
      "|2023-05-24 12:58:...| 228.65|        955|      3|        0.83|        271.62| 202.1|       758|        142|       558|        388|[271.62,202.1,558...|\n",
      "|2023-05-24 12:58:...| 226.94|        267|      1|        0.87|        218.09|593.35|       625|        670|       753|        453|[218.09,593.35,75...|\n",
      "|2023-05-24 12:58:...| 232.79|        597|     -2|        0.85|        149.93|697.82|       792|        249|       722|        241|[149.93,697.82,72...|\n",
      "|2023-05-24 12:58:...| 225.99|         26|   null|        null|         269.2|316.38|        83|        511|       968|        284|[269.2,316.38,968...|\n",
      "|2023-05-24 12:58:...| 238.48|        358|      1|         0.9|        796.25|291.41|       799|         36|       470|        316|[796.25,291.41,47...|\n",
      "|2023-05-24 12:58:...| 231.22|        521|     -5|        0.92|        621.05|134.95|       676|        266|        72|        470|[621.05,134.95,72...|\n",
      "|2023-05-24 12:58:...| 224.04|        556|     -3|        0.85|        930.95|617.27|       247|        450|       735|        154|[930.95,617.27,73...|\n",
      "|2023-05-24 12:58:...| 223.46|        309|      1|        0.92|        360.87| 515.0|       488|        865|       491|        267|[360.87,515.0,491...|\n",
      "|2023-05-24 12:58:...| 237.67|        963|      1|        0.97|        327.44|720.55|        78|         89|       116|        350|[327.44,720.55,11...|\n",
      "|2023-05-24 12:58:...| 239.44|        640|      1|        0.98|        842.15|193.87|       659|        748|       155|        470|[842.15,193.87,15...|\n",
      "|2023-05-24 12:58:...| 221.69|        471|     -5|         0.8|        623.95|909.93|       150|        675|       220|        166|[623.95,909.93,22...|\n",
      "|2023-05-24 12:58:...| 234.62|        922|   null|        null|        263.53|372.77|       479|        270|       190|        412|[263.53,372.77,19...|\n",
      "|2023-05-24 12:58:...| 234.37|        241|      8|        0.98|        527.93|847.73|       486|         43|       245|          9|[527.93,847.73,24...|\n",
      "|2023-05-24 12:58:...| 239.47|        975|   null|        null|         691.8| 591.9|       505|        772|       616|        212|[691.8,591.9,616....|\n",
      "|2023-05-24 12:58:...| 229.95|        760|     -7|        0.85|        251.97|175.25|       647|        785|       509|        364|[251.97,175.25,50...|\n",
      "|2023-05-24 12:58:...|  232.8|        165|   null|        null|        697.94|686.71|       723|        950|       830|        323|[697.94,686.71,83...|\n",
      "|2023-05-24 12:58:...| 236.63|        770|     10|        0.98|        667.08|129.58|       691|        332|       485|        135|[667.08,129.58,48...|\n",
      "|2023-05-24 12:58:...| 228.96|        252|     -6|        0.86|        115.34|335.66|       482|        345|       616|         42|[115.34,335.66,61...|\n",
      "+--------------------+-------+-----------+-------+------------+--------------+------+----------+-----------+----------+-----------+--------------------+\n",
      "only showing top 20 rows\n",
      "\n"
     ]
    }
   ],
   "source": [
    "output = assembler.transform(parsed_df)\n",
    "output.show()"
   ]
  },
  {
   "cell_type": "markdown",
   "id": "a484e02c-5ab3-41df-b734-b1541c5582f6",
   "metadata": {},
   "source": [
    "- This DataFrame can now be used for training models available in Spark ML by passing `Independent` vector column as your **input variable** and `Seller_Type` as your **target variable**."
   ]
  },
  {
   "cell_type": "code",
   "execution_count": 10,
   "id": "a0d12db3-930c-4da0-9e0e-e8cfc7006438",
   "metadata": {},
   "outputs": [
    {
     "data": {
      "text/plain": [
       "['Timestamp',\n",
       " 'voltage',\n",
       " 'compteur_id',\n",
       " 'current',\n",
       " 'power_factor',\n",
       " 'consumption_KW',\n",
       " 'price',\n",
       " 'id_Machine',\n",
       " 'id_consumer',\n",
       " 'Nbr_Person',\n",
       " 'Nbr_machine',\n",
       " 'Independent']"
      ]
     },
     "execution_count": 10,
     "metadata": {},
     "output_type": "execute_result"
    }
   ],
   "source": [
    "output.columns"
   ]
  },
  {
   "cell_type": "code",
   "execution_count": 11,
   "id": "8f1a6b9d-7cc5-4e67-8546-0c39df67eb08",
   "metadata": {},
   "outputs": [
    {
     "name": "stdout",
     "output_type": "stream",
     "text": [
      "+--------------------+------+\n",
      "|         Independent| Price|\n",
      "+--------------------+------+\n",
      "|[794.15,959.02,54...|959.02|\n",
      "|[231.47,337.32,18...|337.32|\n",
      "|[271.62,202.1,558...| 202.1|\n",
      "|[218.09,593.35,75...|593.35|\n",
      "|[149.93,697.82,72...|697.82|\n",
      "|[269.2,316.38,968...|316.38|\n",
      "|[796.25,291.41,47...|291.41|\n",
      "|[621.05,134.95,72...|134.95|\n",
      "|[930.95,617.27,73...|617.27|\n",
      "|[360.87,515.0,491...| 515.0|\n",
      "|[327.44,720.55,11...|720.55|\n",
      "|[842.15,193.87,15...|193.87|\n",
      "|[623.95,909.93,22...|909.93|\n",
      "|[263.53,372.77,19...|372.77|\n",
      "|[527.93,847.73,24...|847.73|\n",
      "|[691.8,591.9,616....| 591.9|\n",
      "|[251.97,175.25,50...|175.25|\n",
      "|[697.94,686.71,83...|686.71|\n",
      "|[667.08,129.58,48...|129.58|\n",
      "|[115.34,335.66,61...|335.66|\n",
      "+--------------------+------+\n",
      "only showing top 20 rows\n",
      "\n"
     ]
    }
   ],
   "source": [
    "final_data = output.select(\"Independent\", \"Price\")\n",
    "final_data.show()"
   ]
  },
  {
   "cell_type": "markdown",
   "id": "a742469d-d743-46e9-9216-8a8de98ed8b3",
   "metadata": {},
   "source": [
    "#### **Train Test Split**:"
   ]
  },
  {
   "cell_type": "code",
   "execution_count": 12,
   "id": "8f362d83-1aeb-4125-b6b2-64e3aa789530",
   "metadata": {},
   "outputs": [],
   "source": [
    "train_data, validation_data = final_data.randomSplit(weights=[0.7, 0.3], seed=49)"
   ]
  },
  {
   "cell_type": "markdown",
   "id": "cc2efe2c-3f5b-4f7f-b9e8-8a5c369f2206",
   "metadata": {},
   "source": [
    "# **Linear Regression Using PySpark**"
   ]
  },
  {
   "cell_type": "markdown",
   "id": "7996d60a-3eef-4c93-ab13-4d7422ef0270",
   "metadata": {},
   "source": [
    "### **Model Initialization and Training**"
   ]
  },
  {
   "cell_type": "code",
   "execution_count": 13,
   "id": "ec62e672-6c8c-4e19-a2a3-a94638812a6e",
   "metadata": {},
   "outputs": [],
   "source": [
    "# Initializing a Linear Regression model\n",
    "ss = LinearRegression(featuresCol='Independent', labelCol='Price')\n",
    "\n",
    "# Training the model\n",
    "ss = ss.fit(train_data)"
   ]
  },
  {
   "cell_type": "code",
   "execution_count": 14,
   "id": "b385a1c7-0c19-46a3-af50-19f97cc5d22a",
   "metadata": {},
   "outputs": [
    {
     "data": {
      "text/plain": [
       "1.5400415741225712e-13"
      ]
     },
     "execution_count": 14,
     "metadata": {},
     "output_type": "execute_result"
    }
   ],
   "source": [
    "ss.intercept"
   ]
  },
  {
   "cell_type": "code",
   "execution_count": 15,
   "id": "807f6855-18c8-4d25-b68a-852d8ec1c410",
   "metadata": {},
   "outputs": [
    {
     "data": {
      "text/plain": [
       "DenseVector([0.0, 1.0, 0.0, -0.0])"
      ]
     },
     "execution_count": 15,
     "metadata": {},
     "output_type": "execute_result"
    }
   ],
   "source": [
    "ss.coefficients"
   ]
  },
  {
   "cell_type": "code",
   "execution_count": 16,
   "id": "5332b413-a7dc-44a1-ae69-ebfdfa59a365",
   "metadata": {},
   "outputs": [
    {
     "name": "stdout",
     "output_type": "stream",
     "text": [
      "+--------------------+------+------------------+\n",
      "|         Independent| Price|        prediction|\n",
      "+--------------------+------+------------------+\n",
      "|[1.2,754.65,270.0...|754.65|            754.65|\n",
      "|[1.26,483.65,565....|483.65| 483.6500000000001|\n",
      "|[3.16,606.31,290....|606.31| 606.3099999999998|\n",
      "|[4.51,794.91,707....|794.91| 794.9099999999999|\n",
      "|[4.57,631.01,762....|631.01|            631.01|\n",
      "|[4.81,111.71,308....|111.71|111.71000000000012|\n",
      "|[5.51,571.43,896....|571.43| 571.4299999999998|\n",
      "|[7.01,807.8,402.0...| 807.8| 807.7999999999998|\n",
      "|[7.02,378.04,806....|378.04| 378.0400000000001|\n",
      "|[8.37,628.89,351....|628.89| 628.8899999999999|\n",
      "|[8.79,324.03,80.0...|324.03|            324.03|\n",
      "|[9.32,564.03,299....|564.03|            564.03|\n",
      "|[12.98,108.12,221...|108.12|108.12000000000012|\n",
      "|[21.65,47.27,499....| 47.27|  47.2700000000001|\n",
      "|[23.95,73.34,126....| 73.34| 73.34000000000015|\n",
      "|[25.28,853.19,261...|853.19|            853.19|\n",
      "|[26.66,813.09,197...|813.09|            813.09|\n",
      "|[28.23,27.18,500....| 27.18|27.180000000000096|\n",
      "|[31.28,544.13,21....|544.13|            544.13|\n",
      "|[33.06,389.38,267...|389.38| 389.3800000000001|\n",
      "+--------------------+------+------------------+\n",
      "only showing top 20 rows\n",
      "\n"
     ]
    }
   ],
   "source": [
    "pred_train = ss.evaluate(train_data)\n",
    "pred_train.predictions.show()"
   ]
  },
  {
   "cell_type": "markdown",
   "id": "ec00ec68-4b66-485f-9085-850d36c72724",
   "metadata": {},
   "source": [
    "### **Model Evaluation on Test Set**"
   ]
  },
  {
   "cell_type": "code",
   "execution_count": 17,
   "id": "4a9cbe21-7778-432f-98b7-f0a6579002cb",
   "metadata": {},
   "outputs": [
    {
     "name": "stdout",
     "output_type": "stream",
     "text": [
      "+--------------------+------+------------------+\n",
      "|         Independent| Price|        prediction|\n",
      "+--------------------+------+------------------+\n",
      "|[2.53,850.95,224....|850.95|            850.95|\n",
      "|[9.66,943.01,847....|943.01|            943.01|\n",
      "|[17.75,731.51,894...|731.51| 731.5099999999999|\n",
      "|[18.44,918.3,235....| 918.3|             918.3|\n",
      "|[20.03,819.09,530...|819.09| 819.0899999999999|\n",
      "|[22.0,840.67,654....|840.67| 840.6699999999998|\n",
      "|[25.12,565.54,250...|565.54|            565.54|\n",
      "|[25.77,279.02,382...|279.02|            279.02|\n",
      "|[27.16,843.26,629...|843.26| 843.2599999999999|\n",
      "|[34.75,913.23,474...|913.23|            913.23|\n",
      "|[40.87,295.07,514...|295.07| 295.0700000000001|\n",
      "|[47.54,270.62,445...|270.62|270.62000000000006|\n",
      "|[48.33,965.46,596...|965.46|            965.46|\n",
      "|[53.02,320.0,330....| 320.0|320.00000000000006|\n",
      "|[57.25,695.7,575....| 695.7| 695.6999999999999|\n",
      "|[60.06,27.48,275....| 27.48| 27.48000000000015|\n",
      "|[64.4,948.44,169....|948.44|            948.44|\n",
      "|[65.76,469.96,367...|469.96|469.96000000000004|\n",
      "|[66.02,311.23,818...|311.23| 311.2300000000001|\n",
      "|[67.94,519.86,346...|519.86|            519.86|\n",
      "+--------------------+------+------------------+\n",
      "only showing top 20 rows\n",
      "\n"
     ]
    }
   ],
   "source": [
    "pred = ss.evaluate(validation_data)\n",
    "pred.predictions.show()"
   ]
  },
  {
   "cell_type": "code",
   "execution_count": 18,
   "id": "50e86887-183b-46d6-bcb3-5ce0336714f4",
   "metadata": {},
   "outputs": [],
   "source": [
    "preprocessed_df.write.format(\"csv\") \\\n",
    "    .mode(\"overwrite\") \\\n",
    "    .save(\"s3a://compteurbucket/output-data-ML.csv\")\n",
    "\n",
    "# Stop the Spark session\n",
    "spark.stop()"
   ]
  },
  {
   "cell_type": "markdown",
   "id": "bcec2b1e-0b77-4ff4-94f9-3afb25ab727b",
   "metadata": {},
   "source": [
    "- We used **VectorAssembler** for **preparing our data** for machine learning model.\n",
    "\n",
    "- This was proceeded by a **linear regression** training and evaluation which observed **a good fit** of the model with the current constraints of data."
   ]
  }
 ],
 "metadata": {
  "kernelspec": {
   "display_name": "Python 3 (ipykernel)",
   "language": "python",
   "name": "python3"
  },
  "language_info": {
   "codemirror_mode": {
    "name": "ipython",
    "version": 3
   },
   "file_extension": ".py",
   "mimetype": "text/x-python",
   "name": "python",
   "nbconvert_exporter": "python",
   "pygments_lexer": "ipython3",
   "version": "3.8.13"
  }
 },
 "nbformat": 4,
 "nbformat_minor": 5
}
