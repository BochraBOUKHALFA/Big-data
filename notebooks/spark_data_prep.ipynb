{
 "cells": [
  {
   "cell_type": "code",
   "execution_count": 1,
   "id": "e958af0a-ce3c-4ca3-9f90-783e5bcaa26f",
   "metadata": {},
   "outputs": [],
   "source": [
    "from pyspark.sql import SparkSession\n",
    "from pyspark.sql.functions import when"
   ]
  },
  {
   "cell_type": "code",
   "execution_count": 4,
   "id": "954bd09d-104e-4cd9-8b5d-d85a6909b70e",
   "metadata": {},
   "outputs": [],
   "source": [
    "# Create a Spark session\n",
    "spark = SparkSession.builder \\\n",
    "    .appName(\"DataPreparation\") \\\n",
    "    .getOrCreate()\n",
    "\n",
    "# Read the CSV file from MinIO bucket and load it into a DataFrame\n",
    "df = spark.read.format(\"csv\") \\\n",
    "    .option(\"header\", \"true\") \\\n",
    "    .load(\"s3a://compteurbucket/compteurs.csv\")\n",
    "\n",
    "# Convert columns with negative values to positive values\n",
    "preprocessed_df = df.withColumn('power_factor', when(df['power_factor'] >= 0, df['power_factor']).otherwise(0)) \\\n",
    "    .withColumn('compteur_id', when(df['compteur_id'].isNull(), 0).otherwise(df['compteur_id'])) \\\n",
    "    .withColumn('voltage', when(df['voltage'].isNull(), 0).otherwise(df['voltage'])) \\\n",
    "    .withColumn('current', when(df['current'].isNull(), 0).otherwise(df['current']))\n",
    "\n",
    "# Write preprocessed data to Parquet\n",
    "df.write.format(\"parquet\") \\\n",
    "    .mode(\"overwrite\") \\\n",
    "    .save(\"s3a://compteurbucket/output-compteurdata.parquet\")\n",
    "\n",
    "\n",
    "# Stop the Spark session\n",
    "spark.stop()"
   ]
  },
  {
   "cell_type": "code",
   "execution_count": null,
   "id": "edebea2f-e1f1-433d-b3c0-4295648bcf3c",
   "metadata": {},
   "outputs": [],
   "source": []
  }
 ],
 "metadata": {
  "kernelspec": {
   "display_name": "Python 3 (ipykernel)",
   "language": "python",
   "name": "python3"
  },
  "language_info": {
   "codemirror_mode": {
    "name": "ipython",
    "version": 3
   },
   "file_extension": ".py",
   "mimetype": "text/x-python",
   "name": "python",
   "nbconvert_exporter": "python",
   "pygments_lexer": "ipython3",
   "version": "3.8.13"
  }
 },
 "nbformat": 4,
 "nbformat_minor": 5
}
